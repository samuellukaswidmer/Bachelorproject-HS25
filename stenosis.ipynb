{
 "cells": [
  {
   "cell_type": "markdown",
   "id": "1dfac973",
   "metadata": {},
   "source": [
    "# Data Analysis Of Medical Data"
   ]
  },
  {
   "cell_type": "markdown",
   "id": "4f342a95",
   "metadata": {},
   "source": [
    "## 1. Data Analysis"
   ]
  },
  {
   "cell_type": "code",
   "execution_count": 31,
   "id": "951b9592",
   "metadata": {},
   "outputs": [],
   "source": [
    "# Data Handling and Analysis\n",
    "import pandas as pd\n",
    "import numpy as np\n",
    "\n",
    "# Visualization\n",
    "import matplotlib.pyplot as plt\n",
    "import seaborn as sns\n",
    "\n",
    "# Machine Learning\n",
    "from sklearn.model_selection import train_test_split, cross_val_score\n",
    "from sklearn.preprocessing import StandardScaler\n",
    "from sklearn.metrics import accuracy_score, classification_report, confusion_matrix, roc_auc_score, roc_curve\n",
    "from sklearn.linear_model import LogisticRegression\n",
    "from sklearn.ensemble import RandomForestClassifier\n",
    "from sklearn.svm import SVC\n",
    "\n",
    "###\n",
    "import pandas as pd\n",
    "import numpy as np\n",
    "from sklearn.model_selection import train_test_split\n",
    "from sklearn.linear_model import LogisticRegression\n",
    "from sklearn.metrics import accuracy_score, confusion_matrix, classification_report\n",
    "from xgboost import XGBClassifier\n",
    "\n",
    "###\n",
    "import time\n",
    "from sklearn.pipeline import Pipeline\n",
    "from sklearn.preprocessing import StandardScaler\n",
    "from sklearn.svm import LinearSVC, SVC\n",
    "from sklearn.decomposition import PCA\n",
    "from sklearn.metrics import accuracy_score, confusion_matrix, classification_report\n",
    "\n",
    "\n"
   ]
  },
  {
   "cell_type": "code",
   "execution_count": null,
   "id": "260cd187",
   "metadata": {},
   "outputs": [],
   "source": [
    "# Read csv file and look at contents\n",
    "file_path = \"T49.2_Sep2025_1_StGallen.csv\"\n",
    "df = pd.read_csv(file_path, sep=\";\")\n",
    "\n",
    "print(df.shape)\n",
    "print(df.head())\n",
    "\n",
    "# Proportions of classes\n",
    "print(\"Value Counts (in %):\")\n",
    "class_shares = df[\"OUTCOME_3Kat_KHK\"].value_counts(normalize=True) * 100\n",
    "print(class_shares.round(2))"
   ]
  },
  {
   "cell_type": "markdown",
   "id": "1427a0a1",
   "metadata": {},
   "source": [
    "## 2. Machine Learning Models"
   ]
  },
  {
   "cell_type": "markdown",
   "id": "8ad8ae0f",
   "metadata": {},
   "source": [
    "## 2.1 Logistic Regression"
   ]
  },
  {
   "cell_type": "markdown",
   "id": "d3ded209",
   "metadata": {},
   "source": [
    "1. FIRST TRY"
   ]
  },
  {
   "cell_type": "code",
   "execution_count": 36,
   "id": "73841d23",
   "metadata": {},
   "outputs": [
    {
     "name": "stderr",
     "output_type": "stream",
     "text": [
      "/opt/anaconda3/lib/python3.13/site-packages/sklearn/linear_model/_logistic.py:1247: FutureWarning: 'multi_class' was deprecated in version 1.5 and will be removed in 1.7. From then on, it will always use 'multinomial'. Leave it to its default value to avoid this warning.\n",
      "  warnings.warn(\n"
     ]
    },
    {
     "name": "stdout",
     "output_type": "stream",
     "text": [
      "Accuracy: 0.5584415584415584\n",
      "\n",
      "Confusion Matrix:\n",
      " [[  9  19  45]\n",
      " [  4  29  93]\n",
      " [  9  34 220]]\n",
      "\n",
      "Classification Report:\n",
      "               precision    recall  f1-score   support\n",
      "\n",
      "           0       0.41      0.12      0.19        73\n",
      "           1       0.35      0.23      0.28       126\n",
      "           2       0.61      0.84      0.71       263\n",
      "\n",
      "    accuracy                           0.56       462\n",
      "   macro avg       0.46      0.40      0.39       462\n",
      "weighted avg       0.51      0.56      0.51       462\n",
      "\n"
     ]
    }
   ],
   "source": [
    "\n",
    "# 2. Features (X) and target (y)\n",
    "X = df.drop(\"OUTCOME_3Kat_KHK\", axis=1)\n",
    "y = df[\"OUTCOME_3Kat_KHK\"]\n",
    "\n",
    "# 3. Encode categorical features if any\n",
    "X = pd.get_dummies(X, drop_first=True)\n",
    "\n",
    "# 4. Train-test split\n",
    "X_train, X_test, y_train, y_test = train_test_split(\n",
    "    X, y, test_size=0.2, random_state=42, stratify=y\n",
    ")\n",
    "\n",
    "# 5. Train multinomial logistic regression model\n",
    "model = LogisticRegression(\n",
    "    max_iter=1000,\n",
    "    multi_class=\"multinomial\",\n",
    "    solver=\"lbfgs\"\n",
    ")\n",
    "model.fit(X_train, y_train)\n",
    "\n",
    "# 6. Predictions\n",
    "y_pred = model.predict(X_test)\n",
    "\n",
    "# 7. Evaluation\n",
    "print(\"Accuracy:\", accuracy_score(y_test, y_pred))\n",
    "print(\"\\nConfusion Matrix:\\n\", confusion_matrix(y_test, y_pred))\n",
    "print(\"\\nClassification Report:\\n\", classification_report(y_test, y_pred))"
   ]
  },
  {
   "cell_type": "markdown",
   "id": "7df9ec1c",
   "metadata": {},
   "source": [
    "### Accuracy  \n",
    "Sounds alright, but we know that **class 2 makes up 57% of the data**.  \n",
    "Our model isn’t better than a simple **“always class 2” predictor**.  \n",
    "\n",
    "---\n",
    "\n",
    "### Confusion Matrix  \n",
    "\n",
    "Class 0 – *No Stenosis* (15.7% of Data)  \n",
    "- Of the 73 real cases, only **9** are recognized correctly.  \n",
    "- **45** are incorrectly categorized as class 2.  \n",
    "\n",
    "Class 1 – *Light Stenosis* (27% of Data)  \n",
    "- **29 of 126** correct → recall **23%**.  \n",
    "- Most real class-1 cases are also categorized as class 2.  \n",
    "\n",
    "Class 2 – *Stenosis* (57% of Data)  \n",
    "- **220 of 263** correct → recall **84%**.  \n",
    "- Most misclassifications are confused with class 1.  \n"
   ]
  },
  {
   "cell_type": "markdown",
   "id": "ad866f3f",
   "metadata": {},
   "source": [
    "2. SECOND TRY"
   ]
  },
  {
   "cell_type": "code",
   "execution_count": 35,
   "id": "1fa81fe4",
   "metadata": {},
   "outputs": [
    {
     "name": "stderr",
     "output_type": "stream",
     "text": [
      "/opt/anaconda3/lib/python3.13/site-packages/sklearn/linear_model/_logistic.py:1247: FutureWarning: 'multi_class' was deprecated in version 1.5 and will be removed in 1.7. From then on, it will always use 'multinomial'. Leave it to its default value to avoid this warning.\n",
      "  warnings.warn(\n"
     ]
    },
    {
     "name": "stdout",
     "output_type": "stream",
     "text": [
      "Accuracy: 0.5324675324675324\n",
      "\n",
      "Confusion Matrix:\n",
      " [[ 10  22  41]\n",
      " [  8  36  82]\n",
      " [ 16  47 200]]\n",
      "\n",
      "Classification Report:\n",
      "               precision    recall  f1-score   support\n",
      "\n",
      "           0       0.29      0.14      0.19        73\n",
      "           1       0.34      0.29      0.31       126\n",
      "           2       0.62      0.76      0.68       263\n",
      "\n",
      "    accuracy                           0.53       462\n",
      "   macro avg       0.42      0.39      0.39       462\n",
      "weighted avg       0.49      0.53      0.50       462\n",
      "\n"
     ]
    }
   ],
   "source": [
    "\n",
    "# 1. Load data\n",
    "file_path = \"T49.2_Sep2025_1_StGallen.csv\"\n",
    "df = pd.read_csv(file_path, sep=\";\")\n",
    "\n",
    "# 2. Features (X) and target (y)\n",
    "X = df.drop(\"OUTCOME_3Kat_KHK\", axis=1)\n",
    "y = df[\"OUTCOME_3Kat_KHK\"]\n",
    "\n",
    "# 3. Encode categorical features if any\n",
    "X = pd.get_dummies(X, drop_first=True)\n",
    "\n",
    "# 4. Train-test split\n",
    "X_train, X_test, y_train, y_test = train_test_split(\n",
    "    X, y, test_size=0.2, random_state=42, stratify=y\n",
    ")\n",
    "\n",
    "# 5. Train multinomial logistic regression model with BALANCED CLASS WEIGHTS\n",
    "model = LogisticRegression(\n",
    "    max_iter=1000,\n",
    "    multi_class=\"multinomial\",\n",
    "    solver=\"lbfgs\",\n",
    "    class_weight=\"balanced\"   # NEW MEASURE: This should balance the classes\n",
    ")\n",
    "model.fit(X_train, y_train)\n",
    "\n",
    "# 6. Predictions\n",
    "y_pred = model.predict(X_test)\n",
    "\n",
    "# 7. Evaluation\n",
    "print(\"Accuracy:\", accuracy_score(y_test, y_pred))\n",
    "print(\"\\nConfusion Matrix:\\n\", confusion_matrix(y_test, y_pred))\n",
    "print(\"\\nClassification Report:\\n\", classification_report(y_test, y_pred))\n"
   ]
  },
  {
   "cell_type": "markdown",
   "id": "3d99aa1f",
   "metadata": {},
   "source": [
    "## 2.2 XGBoost"
   ]
  },
  {
   "cell_type": "code",
   "execution_count": null,
   "id": "2aae8d7c",
   "metadata": {},
   "outputs": [],
   "source": [
    "\n",
    "\n",
    "# 1. Train XGBoost classifier\n",
    "xgb_model = XGBClassifier(\n",
    "    n_estimators=200,        # number of trees\n",
    "    learning_rate=0.1,       # shrinkage step\n",
    "    max_depth=5,             # tree depth\n",
    "    subsample=0.8,           # sample rows\n",
    "    colsample_bytree=0.8,    # sample features\n",
    "    random_state=42,\n",
    "    scale_pos_weight=None,   # can be used for imbalance, but start with None\n",
    "    use_label_encoder=False,\n",
    "    eval_metric=\"mlogloss\"\n",
    ")\n",
    "xgb_model.fit(X_train, y_train)\n",
    "\n",
    "# 2. Predictions\n",
    "y_pred_xgb = xgb_model.predict(X_test)\n",
    "\n",
    "# 3. Evaluation\n",
    "print(\"Accuracy (XGBoost):\", accuracy_score(y_test, y_pred_xgb))\n",
    "print(\"\\nConfusion Matrix:\\n\", confusion_matrix(y_test, y_pred_xgb))\n",
    "print(\"\\nClassification Report:\\n\", classification_report(y_test, y_pred_xgb))\n"
   ]
  },
  {
   "cell_type": "markdown",
   "id": "5a3872fe",
   "metadata": {},
   "source": [
    "## 2.3 Support Vector Machine (SVM)"
   ]
  },
  {
   "cell_type": "markdown",
   "id": "85e153fc",
   "metadata": {},
   "source": [
    "The Support Vector Machine is notoriously slow on data with high dimensionality."
   ]
  },
  {
   "cell_type": "code",
   "execution_count": null,
   "id": "533d99c2",
   "metadata": {},
   "outputs": [],
   "source": [
    "# --- SVM comparison: LinearSVC vs. SVC (RBF) with PCA ---\n",
    "\n",
    "def evaluate_model(name, model, X_train, y_train, X_test, y_test):\n",
    "    t0 = time.time()\n",
    "    model.fit(X_train, y_train)\n",
    "    train_time = time.time() - t0\n",
    "\n",
    "    y_pred = model.predict(X_test)\n",
    "    acc = accuracy_score(y_test, y_pred)\n",
    "    print(f\"\\n=== {name} ===\")\n",
    "    print(f\"Train time: {train_time:.2f} s\")\n",
    "    print(f\"Accuracy:   {acc:.4f}\")\n",
    "    print(\"\\nConfusion Matrix:\")\n",
    "    print(confusion_matrix(y_test, y_pred))\n",
    "    print(\"\\nClassification Report:\")\n",
    "    print(classification_report(y_test, y_pred))\n",
    "    return acc\n",
    "\n",
    "# 1) Linear SVM (fast, good for many features)\n",
    "linear_svm = Pipeline([\n",
    "    (\"scaler\", StandardScaler(with_mean=False)),   # works with sparse One-Hot; safe for dense too\n",
    "    (\"svm\", LinearSVC(\n",
    "        C=1.0,\n",
    "        class_weight=\"balanced\",   # handle imbalance\n",
    "        max_iter=10000,\n",
    "        dual=\"auto\",\n",
    "        random_state=42\n",
    "    ))\n",
    "])\n",
    "\n",
    "# 2) RBF SVM with PCA (reduce 649 dims -> ~100; speeds up and helps generalization)\n",
    "n_pca = min(100, X_train.shape[1], max(10, X_train.shape[0] - 1))  # cap at 100 comps\n",
    "svm_pca_rbf = Pipeline([\n",
    "    (\"scaler\", StandardScaler(with_mean=False)),\n",
    "    (\"pca\", PCA(n_components=n_pca, random_state=42)),\n",
    "    (\"svm\", SVC(\n",
    "        kernel=\"rbf\",\n",
    "        C=1.0,\n",
    "        gamma=\"scale\",\n",
    "        class_weight=\"balanced\",   # handle imbalance\n",
    "        probability=False,         # keep False for speed\n",
    "        random_state=42\n",
    "    ))\n",
    "])\n",
    "\n",
    "acc_lin = evaluate_model(\"LinearSVC (scaled)\", linear_svm, X_train, y_train, X_test, y_test)\n",
    "acc_rbf = evaluate_model(f\"SVC RBF + PCA({n_pca})\", svm_pca_rbf, X_train, y_train, X_test, y_test)\n",
    "\n",
    "print(\"\\nSummary:\")\n",
    "print(f\"- LinearSVC Accuracy:     {acc_lin:.4f}\")\n",
    "print(f\"- SVC RBF + PCA Accuracy: {acc_rbf:.4f}\")\n"
   ]
  },
  {
   "cell_type": "code",
   "execution_count": null,
   "id": "af5ec9d4",
   "metadata": {},
   "outputs": [],
   "source": [
    "\n",
    "\n",
    "def evaluate_model(name, model, X_train, y_train, X_test, y_test):\n",
    "    t0 = time.time()\n",
    "    model.fit(X_train, y_train)\n",
    "    train_time = time.time() - t0\n",
    "\n",
    "    y_pred = model.predict(X_test)\n",
    "    acc = accuracy_score(y_test, y_pred)\n",
    "    macro_f1 = f1_score(y_test, y_pred, average=\"macro\", zero_division=0)\n",
    "    bal_acc = balanced_accuracy_score(y_test, y_pred)\n",
    "\n",
    "    print(\"\\n\" + \"=\"*78)\n",
    "    print(f\"=== {name} ===\")\n",
    "    print(f\"Train time: {train_time:.2f} s\")\n",
    "    print(f\"Accuracy:   {acc:.4f} | Macro-F1: {macro_f1:.4f} | Balanced Acc: {bal_acc:.4f}\")\n",
    "\n",
    "    print(\"\\nConfusion Matrix:\")\n",
    "    print(confusion_matrix(y_test, y_pred))\n",
    "\n",
    "    print(\"\\nClassification Report:\")\n",
    "    # digits=3 prevents Jupyter from collapsing; printing the string avoids truncation artifacts\n",
    "    report_str = classification_report(y_test, y_pred, digits=3, zero_division=0)\n",
    "    print(report_str)\n",
    "    print(\"=\"*78)\n",
    "    return {\"model\": name, \"accuracy\": acc, \"macro_f1\": macro_f1, \"balanced_acc\": bal_acc, \"train_time_s\": train_time}\n",
    "\n",
    "# 1) Linear SVM (fast, good for many features)\n",
    "linear_svm = Pipeline([\n",
    "    (\"scaler\", StandardScaler(with_mean=False)),   # safe for one-hot / sparse-like design\n",
    "    (\"svm\", LinearSVC(\n",
    "        C=1.0,\n",
    "        class_weight=\"balanced\",\n",
    "        max_iter=10000,\n",
    "        dual=\"auto\",\n",
    "        random_state=42\n",
    "    ))\n",
    "])\n",
    "\n",
    "# 2) RBF SVM with PCA (reduce 649 -> ~100 comps to speed up & improve generalization)\n",
    "n_pca = min(100, X_train.shape[1], max(10, X_train.shape[0] - 1))  # cap at 100 comps\n",
    "svm_pca_rbf = Pipeline([\n",
    "    (\"scaler\", StandardScaler(with_mean=False)),\n",
    "    (\"pca\", PCA(n_components=n_pca, random_state=42)),\n",
    "    (\"svm\", SVC(\n",
    "        kernel=\"rbf\",\n",
    "        C=1.0,\n",
    "        gamma=\"scale\",\n",
    "        class_weight=\"balanced\",\n",
    "        probability=False,    # keep False for speed\n",
    "        random_state=42\n",
    "    ))\n",
    "])\n",
    "\n",
    "# Run & collect metrics\n",
    "res_lin = evaluate_model(\"LinearSVC (scaled)\", linear_svm, X_train, y_train, X_test, y_test)\n",
    "res_rbf = evaluate_model(f\"SVC RBF + PCA({n_pca})\", svm_pca_rbf, X_train, y_train, X_test, y_test)\n",
    "\n",
    "# Compact summary\n",
    "import pandas as pd\n",
    "summary = pd.DataFrame([res_lin, res_rbf]).sort_values(\"macro_f1\", ascending=False)\n",
    "print(\"\\nSummary (sorted by Macro-F1):\")\n",
    "print(summary.to_string(index=False))\n"
   ]
  }
 ],
 "metadata": {
  "kernelspec": {
   "display_name": "base",
   "language": "python",
   "name": "python3"
  },
  "language_info": {
   "codemirror_mode": {
    "name": "ipython",
    "version": 3
   },
   "file_extension": ".py",
   "mimetype": "text/x-python",
   "name": "python",
   "nbconvert_exporter": "python",
   "pygments_lexer": "ipython3",
   "version": "3.13.5"
  }
 },
 "nbformat": 4,
 "nbformat_minor": 5
}
