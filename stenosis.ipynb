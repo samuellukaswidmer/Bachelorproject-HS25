{
 "cells": [
  {
   "cell_type": "markdown",
   "id": "1dfac973",
   "metadata": {},
   "source": [
    "# Data Analysis Of Medical Data"
   ]
  },
  {
   "cell_type": "markdown",
   "id": "4f342a95",
   "metadata": {},
   "source": [
    "## 1. Data Analysis"
   ]
  },
  {
   "cell_type": "code",
   "execution_count": 26,
   "id": "951b9592",
   "metadata": {},
   "outputs": [],
   "source": [
    "# Data Handling and Analysis\n",
    "import pandas as pd\n",
    "import numpy as np\n",
    "\n",
    "# Visualization\n",
    "import matplotlib.pyplot as plt\n",
    "import seaborn as sns\n",
    "\n",
    "# Machine Learning\n",
    "from sklearn.model_selection import train_test_split, cross_val_score\n",
    "from sklearn.preprocessing import StandardScaler\n",
    "from sklearn.metrics import accuracy_score, classification_report, confusion_matrix, roc_auc_score, roc_curve\n",
    "from sklearn.linear_model import LogisticRegression\n",
    "from sklearn.ensemble import RandomForestClassifier\n",
    "from sklearn.svm import SVC\n",
    "\n",
    "###\n",
    "import pandas as pd\n",
    "import numpy as np\n",
    "from sklearn.model_selection import train_test_split\n",
    "from sklearn.linear_model import LogisticRegression\n",
    "from sklearn.metrics import accuracy_score, confusion_matrix, classification_report\n",
    "from xgboost import XGBClassifier\n",
    "\n"
   ]
  },
  {
   "cell_type": "code",
   "execution_count": null,
   "id": "260cd187",
   "metadata": {},
   "outputs": [],
   "source": [
    "# Read csv file and look at contents\n",
    "file_path = \"T49.2_Sep2025_1_StGallen.csv\"\n",
    "df = pd.read_csv(file_path, sep=\";\")\n",
    "\n",
    "print(df.shape)\n",
    "print(df.head())\n",
    "\n",
    "# Proportions of classes\n",
    "print(\"Value Counts (in %):\")\n",
    "class_shares = df[\"OUTCOME_3Kat_KHK\"].value_counts(normalize=True) * 100\n",
    "print(class_shares.round(2))\n",
    "\n"
   ]
  },
  {
   "cell_type": "markdown",
   "id": "1427a0a1",
   "metadata": {},
   "source": [
    "## 2. Machine Learning Models"
   ]
  },
  {
   "cell_type": "markdown",
   "id": "8ad8ae0f",
   "metadata": {},
   "source": [
    "## 2.1 Logistic Regression"
   ]
  },
  {
   "cell_type": "markdown",
   "id": "d3ded209",
   "metadata": {},
   "source": [
    "1. FIRST TRY"
   ]
  },
  {
   "cell_type": "code",
   "execution_count": null,
   "id": "73841d23",
   "metadata": {},
   "outputs": [],
   "source": [
    "\n",
    "# 2. Features (X) and target (y)\n",
    "X = df.drop(\"OUTCOME_3Kat_KHK\", axis=1)\n",
    "y = df[\"OUTCOME_3Kat_KHK\"]\n",
    "\n",
    "# 3. Encode categorical features if any\n",
    "X = pd.get_dummies(X, drop_first=True)\n",
    "\n",
    "# 4. Train-test split\n",
    "X_train, X_test, y_train, y_test = train_test_split(\n",
    "    X, y, test_size=0.2, random_state=42, stratify=y\n",
    ")\n",
    "\n",
    "# 5. Train multinomial logistic regression model\n",
    "model = LogisticRegression(\n",
    "    max_iter=1000,\n",
    "    multi_class=\"multinomial\",\n",
    "    solver=\"lbfgs\"\n",
    ")\n",
    "model.fit(X_train, y_train)\n",
    "\n",
    "# 6. Predictions\n",
    "y_pred = model.predict(X_test)\n",
    "\n",
    "# 7. Evaluation\n",
    "print(\"Accuracy:\", accuracy_score(y_test, y_pred))\n",
    "print(\"\\nConfusion Matrix:\\n\", confusion_matrix(y_test, y_pred))\n",
    "print(\"\\nClassification Report:\\n\", classification_report(y_test, y_pred))"
   ]
  },
  {
   "cell_type": "markdown",
   "id": "7df9ec1c",
   "metadata": {},
   "source": [
    "### Accuracy  \n",
    "Sounds alright, but we know that **class 2 makes up 57% of the data**.  \n",
    "Our model isn’t better than a simple **“always class 2” predictor**.  \n",
    "\n",
    "---\n",
    "\n",
    "### Confusion Matrix  \n",
    "\n",
    "Class 0 – *No Stenosis* (15.7% of Data)  \n",
    "- Of the 73 real cases, only **9** are recognized correctly.  \n",
    "- **45** are incorrectly categorized as class 2.  \n",
    "\n",
    "Class 1 – *Light Stenosis* (27% of Data)  \n",
    "- **29 of 126** correct → recall **23%**.  \n",
    "- Most real class-1 cases are also categorized as class 2.  \n",
    "\n",
    "Class 2 – *Stenosis* (57% of Data)  \n",
    "- **220 of 263** correct → recall **84%**.  \n",
    "- Most misclassifications are confused with class 1.  \n"
   ]
  },
  {
   "cell_type": "markdown",
   "id": "ad866f3f",
   "metadata": {},
   "source": [
    "2. SECOND TRY"
   ]
  },
  {
   "cell_type": "code",
   "execution_count": null,
   "id": "1fa81fe4",
   "metadata": {},
   "outputs": [],
   "source": [
    "\n",
    "# 1. Load data\n",
    "file_path = \"T49.2_Sep2025_1_StGallen.csv\"\n",
    "df = pd.read_csv(file_path, sep=\";\")\n",
    "\n",
    "# 2. Features (X) and target (y)\n",
    "X = df.drop(\"OUTCOME_3Kat_KHK\", axis=1)\n",
    "y = df[\"OUTCOME_3Kat_KHK\"]\n",
    "\n",
    "# 3. Encode categorical features if any\n",
    "X = pd.get_dummies(X, drop_first=True)\n",
    "\n",
    "# 4. Train-test split\n",
    "X_train, X_test, y_train, y_test = train_test_split(\n",
    "    X, y, test_size=0.2, random_state=42, stratify=y\n",
    ")\n",
    "\n",
    "# 5. Train multinomial logistic regression model with BALANCED CLASS WEIGHTS\n",
    "model = LogisticRegression(\n",
    "    max_iter=1000,\n",
    "    multi_class=\"multinomial\",\n",
    "    solver=\"lbfgs\",\n",
    "    class_weight=\"balanced\"   # NEW MEASURE: This should balance the classes\n",
    ")\n",
    "model.fit(X_train, y_train)\n",
    "\n",
    "# 6. Predictions\n",
    "y_pred = model.predict(X_test)\n",
    "\n",
    "# 7. Evaluation\n",
    "print(\"Accuracy:\", accuracy_score(y_test, y_pred))\n",
    "print(\"\\nConfusion Matrix:\\n\", confusion_matrix(y_test, y_pred))\n",
    "print(\"\\nClassification Report:\\n\", classification_report(y_test, y_pred))\n"
   ]
  },
  {
   "cell_type": "markdown",
   "id": "3d99aa1f",
   "metadata": {},
   "source": [
    "## 2.2 XGBoost"
   ]
  },
  {
   "cell_type": "code",
   "execution_count": 27,
   "id": "2aae8d7c",
   "metadata": {},
   "outputs": [
    {
     "name": "stderr",
     "output_type": "stream",
     "text": [
      "/opt/anaconda3/lib/python3.13/site-packages/xgboost/core.py:158: UserWarning: [18:02:59] WARNING: /var/folders/k1/30mswbxs7r1g6zwn8y4fyt500000gp/T/abs_d9k8pmaj4_/croot/xgboost-split_1724073758172/work/src/learner.cc:740: \n",
      "Parameters: { \"use_label_encoder\" } are not used.\n",
      "\n",
      "  warnings.warn(smsg, UserWarning)\n"
     ]
    },
    {
     "name": "stdout",
     "output_type": "stream",
     "text": [
      "Accuracy (XGBoost): 0.5692640692640693\n",
      "\n",
      "Confusion Matrix:\n",
      " [[  9  21  43]\n",
      " [  6  20 100]\n",
      " [  7  22 234]]\n",
      "\n",
      "Classification Report:\n",
      "               precision    recall  f1-score   support\n",
      "\n",
      "           0       0.41      0.12      0.19        73\n",
      "           1       0.32      0.16      0.21       126\n",
      "           2       0.62      0.89      0.73       263\n",
      "\n",
      "    accuracy                           0.57       462\n",
      "   macro avg       0.45      0.39      0.38       462\n",
      "weighted avg       0.50      0.57      0.50       462\n",
      "\n"
     ]
    }
   ],
   "source": [
    "\n",
    "\n",
    "# 1. Train XGBoost classifier\n",
    "xgb_model = XGBClassifier(\n",
    "    n_estimators=200,        # number of trees\n",
    "    learning_rate=0.1,       # shrinkage step\n",
    "    max_depth=5,             # tree depth\n",
    "    subsample=0.8,           # sample rows\n",
    "    colsample_bytree=0.8,    # sample features\n",
    "    random_state=42,\n",
    "    scale_pos_weight=None,   # can be used for imbalance, but start with None\n",
    "    use_label_encoder=False,\n",
    "    eval_metric=\"mlogloss\"\n",
    ")\n",
    "xgb_model.fit(X_train, y_train)\n",
    "\n",
    "# 2. Predictions\n",
    "y_pred_xgb = xgb_model.predict(X_test)\n",
    "\n",
    "# 3. Evaluation\n",
    "print(\"Accuracy (XGBoost):\", accuracy_score(y_test, y_pred_xgb))\n",
    "print(\"\\nConfusion Matrix:\\n\", confusion_matrix(y_test, y_pred_xgb))\n",
    "print(\"\\nClassification Report:\\n\", classification_report(y_test, y_pred_xgb))\n"
   ]
  }
 ],
 "metadata": {
  "kernelspec": {
   "display_name": "base",
   "language": "python",
   "name": "python3"
  },
  "language_info": {
   "codemirror_mode": {
    "name": "ipython",
    "version": 3
   },
   "file_extension": ".py",
   "mimetype": "text/x-python",
   "name": "python",
   "nbconvert_exporter": "python",
   "pygments_lexer": "ipython3",
   "version": "3.13.5"
  }
 },
 "nbformat": 4,
 "nbformat_minor": 5
}
