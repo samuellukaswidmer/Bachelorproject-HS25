{
 "cells": [
  {
   "cell_type": "markdown",
   "id": "1dfac973",
   "metadata": {},
   "source": [
    "# Data Analysis Of Medical Data"
   ]
  },
  {
   "cell_type": "code",
   "execution_count": 1,
   "id": "951b9592",
   "metadata": {},
   "outputs": [],
   "source": [
    "# Data Handling and Analysis\n",
    "import pandas as pd\n",
    "import numpy as np\n",
    "\n",
    "# Visualization\n",
    "import matplotlib.pyplot as plt\n",
    "import seaborn as sns\n",
    "\n",
    "# Machine Learning\n",
    "from sklearn.model_selection import train_test_split, cross_val_score\n",
    "from sklearn.preprocessing import StandardScaler\n",
    "from sklearn.metrics import accuracy_score, classification_report, confusion_matrix, roc_auc_score, roc_curve\n",
    "from sklearn.linear_model import LogisticRegression\n",
    "from sklearn.ensemble import RandomForestClassifier\n",
    "from sklearn.svm import SVC\n",
    "\n"
   ]
  },
  {
   "cell_type": "code",
   "execution_count": null,
   "id": "260cd187",
   "metadata": {},
   "outputs": [
    {
     "name": "stdout",
     "output_type": "stream",
     "text": [
      "(2310, 649)\n",
      "   OUTCOME_3Kat_KHK           Alter_0  geschlecht waist_0             WHR_0  \\\n",
      "0                 2  56,9691991786448           0     112  ,982456140350877   \n",
      "1                 2  69,4976043805613           0     104              1,04   \n",
      "2                 2  72,0492813141684           0     129  ,941605839416058   \n",
      "3                 2  70,8145106091718           0      99  ,876106194690266   \n",
      "4                 2  62,1601642710472           1     125                     \n",
      "\n",
      "              BMI_0  currsmo0 RR_syst_0 RR_diast_0 Pulse_Pressure  ...  \\\n",
      "0  32,8731097961867         0       130         80             50  ...   \n",
      "1  30,1102788964583         0       160         70             90  ...   \n",
      "2  44,7348800491207         0       140         90             50  ...   \n",
      "3  26,2595847484332         0       130         90             40  ...   \n",
      "4  42,4366343891054         1       180        100             80  ...   \n",
      "\n",
      "  SMC231l SMC232l SMC233l SMC240l SMC241l SMC242l SMC243l SMC244l SMC263l  \\\n",
      "0    9,44    4,38    3,99    14,1    25,8     7,8    3,99    3,99    3,99   \n",
      "1    19,8    8,97    7,75    21,9    41,3    20,1    7,35            7,45   \n",
      "2    13,9    4,75    3,99    20,3    52,4    18,6    3,99    3,99    3,99   \n",
      "3      20    8,73    7,85    25,3    50,7      17       0            7,63   \n",
      "4    16,9    9,14     8,3    29,5      43    17,9    8,13       0     8,4   \n",
      "\n",
      "  SMC264l  \n",
      "0    3,99  \n",
      "1    8,11  \n",
      "2    3,99  \n",
      "3    9,02  \n",
      "4    8,51  \n",
      "\n",
      "[5 rows x 649 columns]\n"
     ]
    }
   ],
   "source": [
    "# Read csv file and look at contents\n",
    "file_path = \"T49.2_Sep2025_1_StGallen.csv\"\n",
    "df = pd.read_csv(file_path, sep=\";\")\n",
    "\n",
    "print(df.shape)\n",
    "print(df.head())"
   ]
  }
 ],
 "metadata": {
  "kernelspec": {
   "display_name": "venv",
   "language": "python",
   "name": "python3"
  },
  "language_info": {
   "codemirror_mode": {
    "name": "ipython",
    "version": 3
   },
   "file_extension": ".py",
   "mimetype": "text/x-python",
   "name": "python",
   "nbconvert_exporter": "python",
   "pygments_lexer": "ipython3",
   "version": "3.13.5"
  }
 },
 "nbformat": 4,
 "nbformat_minor": 5
}
